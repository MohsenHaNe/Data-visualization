{
 "cells": [
  {
   "cell_type": "code",
   "execution_count": null,
   "id": "07b41140-533b-4d1c-bca4-44d56b8b06b1",
   "metadata": {},
   "outputs": [],
   "source": [
    "import numpy as np\n",
    "import pandas as pd\n",
    "import matplotlib.pyplot as plt\n",
    "import seaborn as sns\n",
    "import scipy as sp"
   ]
  },
  {
   "cell_type": "code",
   "execution_count": null,
   "id": "a1c76553-1b5c-41a1-ad8f-ad187c39afee",
   "metadata": {},
   "outputs": [],
   "source": [
    "data = pd.read_csv('ComputerSales.csv') ## you can download data in kaggle\n",
    "data.head()"
   ]
  },
  {
   "cell_type": "markdown",
   "id": "f8fe2aed-2b33-4137-9487-db9566c03a3b",
   "metadata": {
    "jp-MarkdownHeadingCollapsed": true
   },
   "source": [
    "## import dataset from seaborn"
   ]
  },
  {
   "cell_type": "code",
   "execution_count": null,
   "id": "84ce76d5-640c-4738-a165-1bc544c2b715",
   "metadata": {},
   "outputs": [],
   "source": [
    "flights = sns.load_dataset('flights')"
   ]
  },
  {
   "cell_type": "code",
   "execution_count": null,
   "id": "adab842c-1115-40ff-b10f-9175cf12775f",
   "metadata": {},
   "outputs": [],
   "source": [
    "print(sns.get_dataset_names())"
   ]
  },
  {
   "cell_type": "code",
   "execution_count": null,
   "id": "b9a70070-7956-4786-96fd-5b8662ae1c16",
   "metadata": {},
   "outputs": [],
   "source": [
    "car_data = sns.load_dataset('car_crashes')"
   ]
  },
  {
   "cell_type": "code",
   "execution_count": null,
   "id": "d49baecb-70f4-48a9-9e0d-ea543058705a",
   "metadata": {},
   "outputs": [],
   "source": [
    "tips_data = sns.load_dataset('tips')\n",
    "tips_data"
   ]
  },
  {
   "cell_type": "markdown",
   "id": "d869ef34-ce80-45f6-8d1f-9c446f9c9cff",
   "metadata": {
    "jp-MarkdownHeadingCollapsed": true
   },
   "source": [
    "## dist plot"
   ]
  },
  {
   "cell_type": "code",
   "execution_count": null,
   "id": "b75647c5-fda6-45f5-bc8d-41bce7fad8b2",
   "metadata": {},
   "outputs": [],
   "source": [
    "sns.distplot(sns_data['no_previous'],kde=True,bins=5);"
   ]
  },
  {
   "cell_type": "markdown",
   "id": "4990ea27-f639-47ec-8d94-a3f03d29dfac",
   "metadata": {
    "jp-MarkdownHeadingCollapsed": true
   },
   "source": [
    "## Join plot"
   ]
  },
  {
   "cell_type": "code",
   "execution_count": null,
   "id": "6036c7fb-bad2-4b64-9f71-d253f9844f09",
   "metadata": {},
   "outputs": [],
   "source": [
    "sns.jointplot(x='speeding',y='alcohol',data=sns_data,kind='reg')##kind = reg , hwx,kde,..."
   ]
  },
  {
   "cell_type": "markdown",
   "id": "827b4601-0fdc-4f23-bcea-55f4510daccc",
   "metadata": {
    "jp-MarkdownHeadingCollapsed": true
   },
   "source": [
    "## kde plot"
   ]
  },
  {
   "cell_type": "code",
   "execution_count": null,
   "id": "9616ddc2-f349-4178-b7d8-a86b877a8771",
   "metadata": {},
   "outputs": [],
   "source": [
    "sns.kdeplot(sns_data['speeding'])"
   ]
  },
  {
   "cell_type": "markdown",
   "id": "04b69edc-6c4e-44e9-a2c6-c6f55aaacdb5",
   "metadata": {
    "jp-MarkdownHeadingCollapsed": true
   },
   "source": [
    "## paiplot"
   ]
  },
  {
   "cell_type": "code",
   "execution_count": null,
   "id": "4c163a16-24e3-4cae-bc7b-c4bbb94e67f2",
   "metadata": {
    "scrolled": true
   },
   "outputs": [],
   "source": [
    "sns.pairplot(sns_data).savefig('paiplot')"
   ]
  },
  {
   "cell_type": "markdown",
   "id": "2c546344-38ab-44ac-b4d3-4c6cde8369bf",
   "metadata": {
    "jp-MarkdownHeadingCollapsed": true
   },
   "source": [
    "## styling"
   ]
  },
  {
   "cell_type": "code",
   "execution_count": null,
   "id": "2795c396-cd18-4ddf-83e1-48a999e2aefa",
   "metadata": {},
   "outputs": [],
   "source": [
    "sns.set_style('ticks')\n",
    "plt.figure(figsize=(8,4))\n",
    "sns.set_context('paper',font_scale=1)\n",
    "sns.kdeplot(sns_data['speeding'])\n",
    "sns.despine(bottom=False,left=False)"
   ]
  },
  {
   "cell_type": "markdown",
   "id": "018d7b4a-59d9-4dae-a7f0-f225c80ab2b1",
   "metadata": {
    "jp-MarkdownHeadingCollapsed": true
   },
   "source": [
    "## Bar plot"
   ]
  },
  {
   "cell_type": "code",
   "execution_count": null,
   "id": "585262e0-3b44-46d0-9c56-a0edfe55bd1e",
   "metadata": {},
   "outputs": [],
   "source": [
    "sns.barplot(x='sex',y='total_bill',data=tips_data,estimator=np.std)"
   ]
  },
  {
   "cell_type": "markdown",
   "id": "76900aa2-6e60-475e-b752-10f2fdd49988",
   "metadata": {
    "jp-MarkdownHeadingCollapsed": true
   },
   "source": [
    "## Count plot"
   ]
  },
  {
   "cell_type": "code",
   "execution_count": null,
   "id": "789befbf-b48a-4026-bac8-8faeebc69b9c",
   "metadata": {},
   "outputs": [],
   "source": [
    "sns.countplot(x='sex',data=tips_data,hue='sex') # X or Y"
   ]
  },
  {
   "cell_type": "markdown",
   "id": "cf98eb4d-b282-4088-86f0-621429216053",
   "metadata": {
    "jp-MarkdownHeadingCollapsed": true
   },
   "source": [
    "## Boxplot"
   ]
  },
  {
   "cell_type": "code",
   "execution_count": null,
   "id": "a91973b0-3219-4c11-8105-da304f8177a0",
   "metadata": {},
   "outputs": [],
   "source": [
    "sns.boxplot(x='sex',y='total_bill',data=tips_data,hue='day')\n",
    "plt.legend(loc=1)# 'upper right'"
   ]
  },
  {
   "cell_type": "markdown",
   "id": "980bdd8f-aa3c-4e7c-bf63-887c65bfd477",
   "metadata": {
    "jp-MarkdownHeadingCollapsed": true
   },
   "source": [
    "## Violin plot"
   ]
  },
  {
   "cell_type": "code",
   "execution_count": null,
   "id": "47247b5f-0307-4310-933c-9720d3283317",
   "metadata": {},
   "outputs": [],
   "source": [
    "sns.violinplot(x='day',y='total_bill',hue='sex',data=tips_data,split=True)\n",
    "sns.set_context(context='paper',font_scale=1)"
   ]
  },
  {
   "cell_type": "markdown",
   "id": "18df16ef-a8c3-46b6-bed8-e4b9660c5f37",
   "metadata": {
    "jp-MarkdownHeadingCollapsed": true
   },
   "source": [
    "## Strip plot"
   ]
  },
  {
   "cell_type": "code",
   "execution_count": null,
   "id": "571d78c5-7b52-4a39-a37d-3fc065c63214",
   "metadata": {},
   "outputs": [],
   "source": [
    "sns.stripplot(x='day',y='total_bill',data=tips_data,hue='sex',jitter=True,dodge=True)\n",
    "plt.legend(loc=1)"
   ]
  },
  {
   "cell_type": "markdown",
   "id": "3422e453-1013-45c8-b565-910aec98aa0b",
   "metadata": {
    "jp-MarkdownHeadingCollapsed": true
   },
   "source": [
    "## Swarm plot"
   ]
  },
  {
   "cell_type": "code",
   "execution_count": null,
   "id": "9149df79-3332-4f87-9193-0c05c739700b",
   "metadata": {},
   "outputs": [],
   "source": [
    "sns.swarmplot(x='day',y='total_bill',data=tips_data,hue='sex')"
   ]
  },
  {
   "cell_type": "markdown",
   "id": "582dcca0-bc70-4118-a5fd-b289f1fa342b",
   "metadata": {
    "jp-MarkdownHeadingCollapsed": true
   },
   "source": [
    "## Palette"
   ]
  },
  {
   "cell_type": "code",
   "execution_count": null,
   "id": "e6702a9d-9c4f-485f-b382-970e8e7a85d1",
   "metadata": {},
   "outputs": [],
   "source": [
    "sns.stripplot(x='day',y='total_bill',data=tips_data,hue='sex',palette='afmhot') # palette = cmap\n",
    "plt.legend(loc='upper center')"
   ]
  },
  {
   "cell_type": "markdown",
   "id": "9982d825-b770-4ff1-8b06-9fb0d187cd1f",
   "metadata": {
    "jp-MarkdownHeadingCollapsed": true
   },
   "source": [
    "## Heatmap"
   ]
  },
  {
   "cell_type": "code",
   "execution_count": null,
   "id": "ecaf9624-4775-4a5b-90a3-2f1defbe4c27",
   "metadata": {},
   "outputs": [],
   "source": [
    "plt.figure(figsize=(8,4))\n",
    "sns.set_context('paper',font_scale=0.2)\n",
    "#sns.heatmap(car_data.corr(),annot=True,cmap='blues')"
   ]
  },
  {
   "cell_type": "markdown",
   "id": "73995eab-41cc-4191-a874-dc56cc6702e6",
   "metadata": {
    "jp-MarkdownHeadingCollapsed": true
   },
   "source": [
    "## cluster maps"
   ]
  },
  {
   "cell_type": "code",
   "execution_count": null,
   "id": "ad577e74-8681-426d-9457-1e5cc9fa9aef",
   "metadata": {},
   "outputs": [],
   "source": [
    "iris = sns.load_dataset('iris')"
   ]
  },
  {
   "cell_type": "code",
   "execution_count": null,
   "id": "cc9e103f-5860-4c6c-847d-ffaaa05259e9",
   "metadata": {},
   "outputs": [],
   "source": [
    "values = iris.pop('species')"
   ]
  },
  {
   "cell_type": "code",
   "execution_count": null,
   "id": "4029e32d-d112-442f-9e67-efebf80705da",
   "metadata": {},
   "outputs": [],
   "source": [
    "sns.clustermap(iris,standard_scale=1,cmap='Blues')"
   ]
  },
  {
   "cell_type": "markdown",
   "id": "53e143b6-8e24-48f4-a1d7-d42c6186ede2",
   "metadata": {
    "jp-MarkdownHeadingCollapsed": true
   },
   "source": [
    "## Pairgrid"
   ]
  },
  {
   "cell_type": "code",
   "execution_count": null,
   "id": "12d962cb-8601-4226-808d-1a8d29e52ad6",
   "metadata": {},
   "outputs": [],
   "source": [
    "species = iris['species']\n",
    "iris_g = sns.PairGrid(iris,hue=species)\n",
    "iris_g.map(plt.line)"
   ]
  },
  {
   "cell_type": "markdown",
   "id": "ad4e4c36-c7d0-42e1-b7fb-175504cf0a30",
   "metadata": {
    "jp-MarkdownHeadingCollapsed": true
   },
   "source": [
    "## Facet grid"
   ]
  },
  {
   "cell_type": "code",
   "execution_count": null,
   "id": "bca1151b-bdfe-46df-8411-603ab05f1e28",
   "metadata": {},
   "outputs": [],
   "source": [
    "tips_facet = sns.FacetGrid(data=tips_data,col='time',row='smoker')\n",
    "tips_facet.map(plt.scatter,'total_bill','tip')"
   ]
  },
  {
   "cell_type": "markdown",
   "id": "26bf36fc-3525-4d8f-a4e8-14f6f6f53343",
   "metadata": {},
   "source": [
    "##"
   ]
  },
  {
   "cell_type": "markdown",
   "id": "024d7a5a-65ec-4c0c-b44e-913fb2462e11",
   "metadata": {
    "jp-MarkdownHeadingCollapsed": true
   },
   "source": [
    "## Regression Plot"
   ]
  },
  {
   "cell_type": "code",
   "execution_count": null,
   "id": "6b7ac178-5420-4615-a17c-8845fe4700a6",
   "metadata": {},
   "outputs": [],
   "source": [
    "sns.lmplot(x='total_bill',y='tip',data=tips_data,hue='sex',markers=['o','*']) ## col ='sex' , row='time'"
   ]
  },
  {
   "cell_type": "code",
   "execution_count": null,
   "id": "e4edd5fd-5b0f-469a-acad-8d02accb91d2",
   "metadata": {},
   "outputs": [],
   "source": []
  }
 ],
 "metadata": {
  "kernelspec": {
   "display_name": "Python 3 (ipykernel)",
   "language": "python",
   "name": "python3"
  },
  "language_info": {
   "codemirror_mode": {
    "name": "ipython",
    "version": 3
   },
   "file_extension": ".py",
   "mimetype": "text/x-python",
   "name": "python",
   "nbconvert_exporter": "python",
   "pygments_lexer": "ipython3",
   "version": "3.12.3"
  }
 },
 "nbformat": 4,
 "nbformat_minor": 5
}
