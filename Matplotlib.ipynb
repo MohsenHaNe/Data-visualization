{
 "cells": [
  {
   "cell_type": "code",
   "execution_count": null,
   "id": "4106dbf8-4ae5-4bd3-8309-552d863e2034",
   "metadata": {},
   "outputs": [],
   "source": [
    "import numpy as np\n",
    "import matplotlib.pyplot as plt\n",
    "from matplotlib import style"
   ]
  },
  {
   "cell_type": "markdown",
   "id": "621e382a-3aed-412a-a6c9-388bbe462e57",
   "metadata": {
    "jp-MarkdownHeadingCollapsed": true
   },
   "source": [
    "## scatter plot"
   ]
  },
  {
   "cell_type": "code",
   "execution_count": null,
   "id": "bf98e2c0-8a6a-42d3-88da-5f3b1b0525f8",
   "metadata": {},
   "outputs": [],
   "source": [
    "np.random.seed(1)\n",
    "xs= np.random.random(50) * 100\n",
    "ys = np.random.random(50) * 100\n"
   ]
  },
  {
   "cell_type": "code",
   "execution_count": null,
   "id": "4af3fa2a-04d6-469c-8332-5bca53e34869",
   "metadata": {},
   "outputs": [],
   "source": [
    "plt.scatter(xs,ys,c='#590',marker=\"^\",s=222,alpha=0.1) ## alpha  = opasiti , s = size\n",
    "plt.show()\n"
   ]
  },
  {
   "cell_type": "markdown",
   "id": "866c0c36-4dad-4ebe-a998-33f7fe5cb36c",
   "metadata": {
    "jp-MarkdownHeadingCollapsed": true
   },
   "source": [
    "## Line PLot"
   ]
  },
  {
   "cell_type": "code",
   "execution_count": null,
   "id": "c87c5362-90a6-45cb-9606-10032eacc579",
   "metadata": {},
   "outputs": [],
   "source": [
    "years = [x for x in range(2004,2021,1)]\n",
    "weights = [x for x in range(50,84,2)]"
   ]
  },
  {
   "cell_type": "code",
   "execution_count": null,
   "id": "8b959ca7-6775-4e47-8d06-1c17b9ea6830",
   "metadata": {},
   "outputs": [],
   "source": [
    "plt.plot(years,weights,linestyle='--',lw=1) ## lw = thinkness"
   ]
  },
  {
   "cell_type": "markdown",
   "id": "a2d2b9ef-9cca-4916-ab5b-112e0af2981a",
   "metadata": {
    "jp-MarkdownHeadingCollapsed": true
   },
   "source": [
    "## Bar plot"
   ]
  },
  {
   "cell_type": "code",
   "execution_count": null,
   "id": "f9a00a23-ad68-47fe-9080-98b0b09312e9",
   "metadata": {},
   "outputs": [],
   "source": [
    "xb = ['A','B','C','D','E']\n",
    "yb = [11,20,24,45,52]"
   ]
  },
  {
   "cell_type": "code",
   "execution_count": null,
   "id": "879d0fb2-853c-4d55-845c-a892a8a2a704",
   "metadata": {},
   "outputs": [],
   "source": [
    "plt.bar(xb,yb,color='y',align='edge',width=1,edgecolor='g',lw=2)\n",
    "plt.xlabel='Person';\n",
    "plt.ylabel='age';\n",
    "plt.legend()"
   ]
  },
  {
   "cell_type": "markdown",
   "id": "d083fcd2-f2ed-4394-864a-0b38fa5a9fc0",
   "metadata": {
    "jp-MarkdownHeadingCollapsed": true
   },
   "source": [
    "## hiatogram"
   ]
  },
  {
   "cell_type": "code",
   "execution_count": null,
   "id": "5975d9ff-e7b3-42c9-8106-ef6e19c97cf2",
   "metadata": {},
   "outputs": [],
   "source": [
    "ages = np.random.normal(30,3,200)"
   ]
  },
  {
   "cell_type": "code",
   "execution_count": null,
   "id": "07f60183-75b1-40e8-97bc-854dc59cc480",
   "metadata": {},
   "outputs": [],
   "source": [
    "plt.hist(ages,color='r',bins=200,lw=5,cumulative=True);#cumulative=True == > counts"
   ]
  },
  {
   "cell_type": "markdown",
   "id": "b7c28400-5e55-4c18-b9ec-cd583c4908e4",
   "metadata": {
    "jp-MarkdownHeadingCollapsed": true
   },
   "source": [
    "##  Pie plot"
   ]
  },
  {
   "cell_type": "code",
   "execution_count": null,
   "id": "a522b24d-5b49-433b-af64-8e9e8ec98a19",
   "metadata": {},
   "outputs": [],
   "source": [
    "x = ['A','B','C','D','E']\n",
    "votes = [90,95,80,1,20]\n",
    "exploads = [0.1,0.1,0,0,0,]"
   ]
  },
  {
   "cell_type": "code",
   "execution_count": null,
   "id": "77652bb8-721d-4bae-99bc-5f988ff3e8ed",
   "metadata": {},
   "outputs": [],
   "source": [
    "plt.pie(votes,labels=x,explode=exploads,autopct='%.2f%%',pctdistance=0.5);## autopct --> percents"
   ]
  },
  {
   "cell_type": "markdown",
   "id": "f73c64ff-0f4d-4a55-8f0e-31eca7911bbf",
   "metadata": {
    "jp-MarkdownHeadingCollapsed": true
   },
   "source": [
    "## Box plot"
   ]
  },
  {
   "cell_type": "code",
   "execution_count": null,
   "id": "2a8301d6-2ceb-4a4c-9533-8e3adc54e858",
   "metadata": {},
   "outputs": [],
   "source": [
    "rates = [np.random.randint(0,20,15)]"
   ]
  },
  {
   "cell_type": "code",
   "execution_count": null,
   "id": "8fa10bb9-97e7-454f-aaf4-fd938a7dc446",
   "metadata": {},
   "outputs": [],
   "source": [
    "plt.boxplot(rates);"
   ]
  },
  {
   "cell_type": "markdown",
   "id": "20dc8312-7dac-4251-95d3-f8f1885c3306",
   "metadata": {
    "jp-MarkdownHeadingCollapsed": true
   },
   "source": [
    "## Customize plot"
   ]
  },
  {
   "cell_type": "code",
   "execution_count": null,
   "id": "96ad4e63-1283-4146-8ef0-e0abc311f0f0",
   "metadata": {},
   "outputs": [],
   "source": [
    "x = [i for i in range(2000,2015)]\n",
    "y = [24,68,36,15,47,24,84,65,35,53,65,45,50,71,47]"
   ]
  },
  {
   "cell_type": "code",
   "execution_count": null,
   "id": "39aa98ba-2b19-4bbd-bdc1-6c91d0eb48d1",
   "metadata": {},
   "outputs": [],
   "source": [
    "plt.plot(x,y,linestyle='--',lw=3)\n",
    "plt.title('X income',fontsize=30) \n",
    "plt.xlabel('Years')\n",
    "plt.ylabel('Income')"
   ]
  },
  {
   "cell_type": "markdown",
   "id": "11e0f6d9-6dd6-4f98-9f3d-2b23e2dd3ae4",
   "metadata": {
    "jp-MarkdownHeadingCollapsed": true
   },
   "source": [
    "## plots with legend"
   ]
  },
  {
   "cell_type": "code",
   "execution_count": null,
   "id": "ae737e24-261a-4d89-af81-51e58e41491c",
   "metadata": {},
   "outputs": [],
   "source": [
    "a = [80, 60, 76, 89, 82, 95, 98, 101, 90, 107]\n",
    "b= [65, 83, 46, 89, 32, 95, 68, 101, 82, 107]\n",
    "c = [75, 92, 86, 79, 92, 68, 98, 101, 104, 85]"
   ]
  },
  {
   "cell_type": "code",
   "execution_count": null,
   "id": "361aa6c7-cc0e-415a-94f5-b3a15a8d8b73",
   "metadata": {},
   "outputs": [],
   "source": [
    "plt.plot(a,label='Apple')\n",
    "plt.plot(b,label='MicroSoft')\n",
    "plt.plot(c,label='Tesla')\n",
    "plt.legend(loc='lower right')"
   ]
  },
  {
   "cell_type": "code",
   "execution_count": null,
   "id": "72a81bc1-f07d-4f55-9072-1e5ae6332ff1",
   "metadata": {},
   "outputs": [],
   "source": [
    "v = [10,42,32,24,15]\n",
    "p = ['A','B','C','D','E']"
   ]
  },
  {
   "cell_type": "code",
   "execution_count": null,
   "id": "95081a1e-3df5-4a39-a787-18ccf42819df",
   "metadata": {},
   "outputs": [],
   "source": [
    "style.use('dark_background')\n",
    "plt.pie(v,labels=None)\n",
    "plt.legend(labels=p,loc='upper right')"
   ]
  },
  {
   "cell_type": "code",
   "execution_count": null,
   "id": "31e2926e-c3ef-410a-92f3-d0ed7e2c2f55",
   "metadata": {},
   "outputs": [],
   "source": [
    "plt.figure(1)\n",
    "plt.pie(v,labels=p)\n",
    "plt.figure(2)\n",
    "plt.plot(a,label='Apple')"
   ]
  },
  {
   "cell_type": "code",
   "execution_count": null,
   "id": "da9f1603-9be3-407c-9621-bf3eced6c820",
   "metadata": {},
   "outputs": [],
   "source": []
  }
 ],
 "metadata": {
  "kernelspec": {
   "display_name": "Python 3 (ipykernel)",
   "language": "python",
   "name": "python3"
  },
  "language_info": {
   "codemirror_mode": {
    "name": "ipython",
    "version": 3
   },
   "file_extension": ".py",
   "mimetype": "text/x-python",
   "name": "python",
   "nbconvert_exporter": "python",
   "pygments_lexer": "ipython3",
   "version": "3.12.3"
  }
 },
 "nbformat": 4,
 "nbformat_minor": 5
}
